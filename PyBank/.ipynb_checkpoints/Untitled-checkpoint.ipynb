{
 "cells": [
  {
   "cell_type": "code",
   "execution_count": 44,
   "id": "0bb6db65",
   "metadata": {},
   "outputs": [],
   "source": [
    "import os\n",
    "import csv"
   ]
  },
  {
   "cell_type": "code",
   "execution_count": 45,
   "id": "63dc520c",
   "metadata": {},
   "outputs": [],
   "source": [
    "csv_file = os.path.join(\"Resources\",\"budget_data.csv\")"
   ]
  },
  {
   "cell_type": "code",
   "execution_count": null,
   "id": "d5f379e4",
   "metadata": {},
   "outputs": [],
   "source": []
  },
  {
   "cell_type": "code",
   "execution_count": null,
   "id": "2fcba72b",
   "metadata": {},
   "outputs": [],
   "source": []
  },
  {
   "cell_type": "code",
   "execution_count": 47,
   "id": "45cd1555",
   "metadata": {},
   "outputs": [
    {
     "ename": "TypeError",
     "evalue": "unsupported operand type(s) for +: 'int' and 'str'",
     "output_type": "error",
     "traceback": [
      "\u001b[0;31m---------------------------------------------------------------------------\u001b[0m",
      "\u001b[0;31mTypeError\u001b[0m                                 Traceback (most recent call last)",
      "Cell \u001b[0;32mIn[47], line 23\u001b[0m\n\u001b[1;32m     18\u001b[0m     total_change\u001b[38;5;241m.\u001b[39mappend(amount)\n\u001b[1;32m     21\u001b[0m total_months \u001b[38;5;241m=\u001b[39m \u001b[38;5;28mlen\u001b[39m(unique_months)\n\u001b[0;32m---> 23\u001b[0m total_net_change \u001b[38;5;241m=\u001b[39m \u001b[38;5;28;43msum\u001b[39;49m\u001b[43m(\u001b[49m\u001b[43mtotal_change\u001b[49m\u001b[43m)\u001b[49m\n\u001b[1;32m     27\u001b[0m \u001b[38;5;28mprint\u001b[39m(\u001b[38;5;124mf\u001b[39m\u001b[38;5;124m'\u001b[39m\u001b[38;5;124mTotal Months: \u001b[39m\u001b[38;5;132;01m{\u001b[39;00mtotal_months\u001b[38;5;132;01m}\u001b[39;00m\u001b[38;5;124m'\u001b[39m)\n",
      "\u001b[0;31mTypeError\u001b[0m: unsupported operand type(s) for +: 'int' and 'str'"
     ]
    }
   ],
   "source": [
    "\n",
    "unique_months =[]\n",
    "total_change =[]\n",
    "\n",
    "with open(csv_file) as budget_csv:\n",
    "    csv_reader = csv.reader(budget_csv, delimiter=',')\n",
    "    #     #for row in csv_reader:\n",
    "    #      print(row)\n",
    "    \n",
    "    #skip header row\n",
    "    \n",
    "    next(csv_reader)\n",
    "\n",
    "    for row in csv_reader:\n",
    "        date = row[0]\n",
    "        month = date.split(\"-\")[0]\n",
    "        unique_months.append(month)\n",
    "        \n",
    "        \n",
    "    total_months = len(unique_months)\n",
    "    \n",
    "    total_net_change = sum(total_change)\n",
    "    \n",
    "    \n",
    "    \n",
    "    print(f'Total Months: {total_months}')"
   ]
  },
  {
   "cell_type": "code",
   "execution_count": null,
   "id": "04fbf24e",
   "metadata": {},
   "outputs": [],
   "source": []
  },
  {
   "cell_type": "code",
   "execution_count": null,
   "id": "87653933",
   "metadata": {},
   "outputs": [],
   "source": []
  },
  {
   "cell_type": "code",
   "execution_count": null,
   "id": "786716ae",
   "metadata": {},
   "outputs": [],
   "source": []
  },
  {
   "cell_type": "code",
   "execution_count": null,
   "id": "c89d6cae",
   "metadata": {},
   "outputs": [],
   "source": []
  },
  {
   "cell_type": "code",
   "execution_count": null,
   "id": "76c86e92",
   "metadata": {},
   "outputs": [],
   "source": []
  }
 ],
 "metadata": {
  "kernelspec": {
   "display_name": "Python 3 (ipykernel)",
   "language": "python",
   "name": "python3"
  },
  "language_info": {
   "codemirror_mode": {
    "name": "ipython",
    "version": 3
   },
   "file_extension": ".py",
   "mimetype": "text/x-python",
   "name": "python",
   "nbconvert_exporter": "python",
   "pygments_lexer": "ipython3",
   "version": "3.10.13"
  }
 },
 "nbformat": 4,
 "nbformat_minor": 5
}
